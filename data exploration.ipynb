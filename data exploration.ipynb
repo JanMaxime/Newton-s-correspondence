{
 "cells": [
  {
   "cell_type": "markdown",
   "id": "national-incident",
   "metadata": {},
   "source": [
    "## Imports"
   ]
  },
  {
   "cell_type": "code",
   "execution_count": 26,
   "id": "active-punch",
   "metadata": {},
   "outputs": [],
   "source": [
    "import pandas as pd\n",
    "import seaborn as sns\n",
    "import matplotlib.pyplot as plt\n",
    "import spacy\n",
    "from datetime import datetime\n",
    "nlp = spacy.load(\"en_core_web_sm\")"
   ]
  },
  {
   "cell_type": "code",
   "execution_count": 29,
   "id": "civic-wisdom",
   "metadata": {},
   "outputs": [],
   "source": [
    "def string_to_date(str_date):\n",
    "    if len(str(str_date)) == \"\":\n",
    "        return None\n",
    "    for fmt in ('%d %B %Y', '%d %b %Y', '%B %Y', \"%b %Y\", \"%Y\"):\n",
    "        try:\n",
    "            return datetime.strptime(str(str_date), fmt)\n",
    "        except ValueError:\n",
    "            pass\n",
    "    raise ValueError(f'no valid date format found for {str_date}')"
   ]
  },
  {
   "cell_type": "code",
   "execution_count": 32,
   "id": "quantitative-taxation",
   "metadata": {},
   "outputs": [],
   "source": [
    "letters = pd.read_pickle(\"letters.pickle\")\n",
    "original_dates_corrected = pd.read_csv(\"original_dates.csv\", sep=\";\")\n",
    "\n",
    "letters = pd.merge(letters, original_dates_corrected, left_index=True, right_on=\"index\").dropna()\n",
    "letters.original_date_corrected = letters.original_date_corrected.apply(string_to_date)\n",
    "letters = letters.query(\"category != 'Mint'\")"
   ]
  },
  {
   "cell_type": "code",
   "execution_count": 33,
   "id": "formed-progressive",
   "metadata": {},
   "outputs": [],
   "source": [
    "letters[letters[\"original_date\"].apply(lambda x : \"1680/1\" in x)].head(20)\n",
    "letters.to_csv(\"letters.csv\")"
   ]
  },
  {
   "cell_type": "code",
   "execution_count": 34,
   "id": "fitting-pride",
   "metadata": {},
   "outputs": [
    {
     "data": {
      "text/html": [
       "<div>\n",
       "<style scoped>\n",
       "    .dataframe tbody tr th:only-of-type {\n",
       "        vertical-align: middle;\n",
       "    }\n",
       "\n",
       "    .dataframe tbody tr th {\n",
       "        vertical-align: top;\n",
       "    }\n",
       "\n",
       "    .dataframe thead th {\n",
       "        text-align: right;\n",
       "    }\n",
       "</style>\n",
       "<table border=\"1\" class=\"dataframe\">\n",
       "  <thead>\n",
       "    <tr style=\"text-align: right;\">\n",
       "      <th></th>\n",
       "      <th>author</th>\n",
       "      <th>category</th>\n",
       "      <th>title</th>\n",
       "      <th>manuscript</th>\n",
       "      <th>original_date</th>\n",
       "      <th>original_place</th>\n",
       "      <th>languages</th>\n",
       "      <th>letter_content</th>\n",
       "      <th>index</th>\n",
       "      <th>original_date_corrected</th>\n",
       "    </tr>\n",
       "  </thead>\n",
       "  <tbody>\n",
       "  </tbody>\n",
       "</table>\n",
       "</div>"
      ],
      "text/plain": [
       "Empty DataFrame\n",
       "Columns: [author, category, title, manuscript, original_date, original_place, languages, letter_content, index, original_date_corrected]\n",
       "Index: []"
      ]
     },
     "execution_count": 34,
     "metadata": {},
     "output_type": "execute_result"
    }
   ],
   "source": [
    "letters[letters[\"author\"].apply(lambda x : \"burnet\" in x.lower())].head(20)"
   ]
  },
  {
   "cell_type": "code",
   "execution_count": 44,
   "id": "restricted-soccer",
   "metadata": {},
   "outputs": [
    {
     "data": {
      "text/html": [
       "<div>\n",
       "<style scoped>\n",
       "    .dataframe tbody tr th:only-of-type {\n",
       "        vertical-align: middle;\n",
       "    }\n",
       "\n",
       "    .dataframe tbody tr th {\n",
       "        vertical-align: top;\n",
       "    }\n",
       "\n",
       "    .dataframe thead th {\n",
       "        text-align: right;\n",
       "    }\n",
       "</style>\n",
       "<table border=\"1\" class=\"dataframe\">\n",
       "  <thead>\n",
       "    <tr style=\"text-align: right;\">\n",
       "      <th></th>\n",
       "      <th>author</th>\n",
       "      <th>category</th>\n",
       "      <th>title</th>\n",
       "      <th>manuscript</th>\n",
       "      <th>original_date</th>\n",
       "      <th>original_place</th>\n",
       "      <th>languages</th>\n",
       "      <th>letter_content</th>\n",
       "      <th>index</th>\n",
       "      <th>original_date_corrected</th>\n",
       "    </tr>\n",
       "  </thead>\n",
       "  <tbody>\n",
       "    <tr>\n",
       "      <th>199</th>\n",
       "      <td>Isaac Newton</td>\n",
       "      <td>Mathematics</td>\n",
       "      <td>Letter from Newton to a friend, together with ...</td>\n",
       "      <td>MS Add. 9597/2/18/3</td>\n",
       "      <td>23 February 1668/9</td>\n",
       "      <td>England</td>\n",
       "      <td>[English, Latin]</td>\n",
       "      <td>3 Trinity College Cambridge Feb: 23d 16689 Sir...</td>\n",
       "      <td>NATP00226</td>\n",
       "      <td>1668-02-23 00:00:00</td>\n",
       "    </tr>\n",
       "    <tr>\n",
       "      <th>200</th>\n",
       "      <td>Isaac Newton</td>\n",
       "      <td>Mathematics</td>\n",
       "      <td>Letter from Newton to Francis Aston, dated 18 ...</td>\n",
       "      <td>MS Add. 9597/2/18/4</td>\n",
       "      <td>18 May 1669</td>\n",
       "      <td>England</td>\n",
       "      <td>[English, Latin]</td>\n",
       "      <td>4 Trinity College Cambridge May 18 1669 Franci...</td>\n",
       "      <td>NATP00227</td>\n",
       "      <td>1669-05-18 00:00:00</td>\n",
       "    </tr>\n",
       "    <tr>\n",
       "      <th>197</th>\n",
       "      <td>Isaac Newton</td>\n",
       "      <td>Mathematics</td>\n",
       "      <td>Letter from Newton to John Collins, dated 19 J...</td>\n",
       "      <td>MS Add. 9597/2/18/1</td>\n",
       "      <td>19 January 1669/70</td>\n",
       "      <td>England</td>\n",
       "      <td>[English]</td>\n",
       "      <td>1 Trinity College Cambridge. Ian 1669 Sir I re...</td>\n",
       "      <td>NATP00224</td>\n",
       "      <td>1669-01-19 00:00:00</td>\n",
       "    </tr>\n",
       "    <tr>\n",
       "      <th>198</th>\n",
       "      <td>Isaac Newton</td>\n",
       "      <td>Mathematics</td>\n",
       "      <td>Letter from Newton to John Collins, dated 6 Fe...</td>\n",
       "      <td>MS Add. 9597/2/18/2</td>\n",
       "      <td>6 February 1669/70</td>\n",
       "      <td>England</td>\n",
       "      <td>[English, French]</td>\n",
       "      <td>2 Trinity College Feb 6 1669.Cambridge. Sir Mr...</td>\n",
       "      <td>NATP00225</td>\n",
       "      <td>1669-02-06 00:00:00</td>\n",
       "    </tr>\n",
       "    <tr>\n",
       "      <th>201</th>\n",
       "      <td>Isaac Newton</td>\n",
       "      <td>Mathematics</td>\n",
       "      <td>Letter from Newton to John Collins, dated 18 F...</td>\n",
       "      <td>MS Add. 9597/2/18/5</td>\n",
       "      <td>18 February 1669/70</td>\n",
       "      <td>England</td>\n",
       "      <td>[English]</td>\n",
       "      <td>5. Feb 18th 166970. Sir Two days since I recei...</td>\n",
       "      <td>NATP00228</td>\n",
       "      <td>1669-02-18 00:00:00</td>\n",
       "    </tr>\n",
       "    <tr>\n",
       "      <th>...</th>\n",
       "      <td>...</td>\n",
       "      <td>...</td>\n",
       "      <td>...</td>\n",
       "      <td>...</td>\n",
       "      <td>...</td>\n",
       "      <td>...</td>\n",
       "      <td>...</td>\n",
       "      <td>...</td>\n",
       "      <td>...</td>\n",
       "      <td>...</td>\n",
       "    </tr>\n",
       "    <tr>\n",
       "      <th>251</th>\n",
       "      <td>Isaac Newton</td>\n",
       "      <td>Mathematics</td>\n",
       "      <td>Letter from Newton to Edmund Halley, dated 27 ...</td>\n",
       "      <td>MS Add. 9597/2/18/68*</td>\n",
       "      <td>27 May 1714</td>\n",
       "      <td>England</td>\n",
       "      <td>[English]</td>\n",
       "      <td>68* May it please your Grace The letter you we...</td>\n",
       "      <td>NATP00278</td>\n",
       "      <td>1714-05-27 00:00:00</td>\n",
       "    </tr>\n",
       "    <tr>\n",
       "      <th>26</th>\n",
       "      <td>Isaac Newton</td>\n",
       "      <td>Science</td>\n",
       "      <td>Letter to Louis d'Aumont, dated 3 June 1714</td>\n",
       "      <td>EL/N1/65</td>\n",
       "      <td>3 June 1714</td>\n",
       "      <td>England</td>\n",
       "      <td>[English]</td>\n",
       "      <td>6565Newton 24 Lond June the 3d. 1714 May it pl...</td>\n",
       "      <td>NATP00336</td>\n",
       "      <td>1714-06-03 00:00:00</td>\n",
       "    </tr>\n",
       "    <tr>\n",
       "      <th>253</th>\n",
       "      <td>John Keill</td>\n",
       "      <td>Mathematics</td>\n",
       "      <td>Letter from John Keill to Newton, c. 23–24 Feb...</td>\n",
       "      <td>MS Add. 9597/2/18/69</td>\n",
       "      <td>23–24 February 1715</td>\n",
       "      <td>England</td>\n",
       "      <td>[English]</td>\n",
       "      <td>69 Honoured Sir I returned but last week to Ox...</td>\n",
       "      <td>NATP00280</td>\n",
       "      <td>1715-02-24 00:00:00</td>\n",
       "    </tr>\n",
       "    <tr>\n",
       "      <th>254</th>\n",
       "      <td>Isaac Newton</td>\n",
       "      <td>Mathematics</td>\n",
       "      <td>Draft Letter from Newton Concerning Treasury B...</td>\n",
       "      <td>MS Add. 9597/2/18/70</td>\n",
       "      <td>1718</td>\n",
       "      <td>England</td>\n",
       "      <td>[English, Latin]</td>\n",
       "      <td>70. In answer to the Memorial of Mr Nicholson ...</td>\n",
       "      <td>NATP00281</td>\n",
       "      <td>1718-01-01 00:00:00</td>\n",
       "    </tr>\n",
       "    <tr>\n",
       "      <th>252</th>\n",
       "      <td>Isaac Newton</td>\n",
       "      <td>Mathematics</td>\n",
       "      <td>Letter from Newton to Edmund Halley, dated 3 D...</td>\n",
       "      <td>MS Add. 9597/2/18/68</td>\n",
       "      <td>3 December 1724</td>\n",
       "      <td>England</td>\n",
       "      <td>[English, Latin]</td>\n",
       "      <td>68 Dr Halley I received from you formerly a Ta...</td>\n",
       "      <td>NATP00279</td>\n",
       "      <td>1724-12-03 00:00:00</td>\n",
       "    </tr>\n",
       "  </tbody>\n",
       "</table>\n",
       "<p>142 rows × 10 columns</p>\n",
       "</div>"
      ],
      "text/plain": [
       "           author     category  \\\n",
       "199  Isaac Newton  Mathematics   \n",
       "200  Isaac Newton  Mathematics   \n",
       "197  Isaac Newton  Mathematics   \n",
       "198  Isaac Newton  Mathematics   \n",
       "201  Isaac Newton  Mathematics   \n",
       "..            ...          ...   \n",
       "251  Isaac Newton  Mathematics   \n",
       "26   Isaac Newton      Science   \n",
       "253    John Keill  Mathematics   \n",
       "254  Isaac Newton  Mathematics   \n",
       "252  Isaac Newton  Mathematics   \n",
       "\n",
       "                                                 title             manuscript  \\\n",
       "199  Letter from Newton to a friend, together with ...    MS Add. 9597/2/18/3   \n",
       "200  Letter from Newton to Francis Aston, dated 18 ...    MS Add. 9597/2/18/4   \n",
       "197  Letter from Newton to John Collins, dated 19 J...    MS Add. 9597/2/18/1   \n",
       "198  Letter from Newton to John Collins, dated 6 Fe...    MS Add. 9597/2/18/2   \n",
       "201  Letter from Newton to John Collins, dated 18 F...    MS Add. 9597/2/18/5   \n",
       "..                                                 ...                    ...   \n",
       "251  Letter from Newton to Edmund Halley, dated 27 ...  MS Add. 9597/2/18/68*   \n",
       "26         Letter to Louis d'Aumont, dated 3 June 1714               EL/N1/65   \n",
       "253  Letter from John Keill to Newton, c. 23–24 Feb...   MS Add. 9597/2/18/69   \n",
       "254  Draft Letter from Newton Concerning Treasury B...   MS Add. 9597/2/18/70   \n",
       "252  Letter from Newton to Edmund Halley, dated 3 D...   MS Add. 9597/2/18/68   \n",
       "\n",
       "           original_date original_place          languages  \\\n",
       "199   23 February 1668/9        England   [English, Latin]   \n",
       "200          18 May 1669        England   [English, Latin]   \n",
       "197   19 January 1669/70        England          [English]   \n",
       "198   6 February 1669/70        England  [English, French]   \n",
       "201  18 February 1669/70        England          [English]   \n",
       "..                   ...            ...                ...   \n",
       "251          27 May 1714        England          [English]   \n",
       "26           3 June 1714        England          [English]   \n",
       "253  23–24 February 1715        England          [English]   \n",
       "254                 1718        England   [English, Latin]   \n",
       "252      3 December 1724        England   [English, Latin]   \n",
       "\n",
       "                                        letter_content      index  \\\n",
       "199  3 Trinity College Cambridge Feb: 23d 16689 Sir...  NATP00226   \n",
       "200  4 Trinity College Cambridge May 18 1669 Franci...  NATP00227   \n",
       "197  1 Trinity College Cambridge. Ian 1669 Sir I re...  NATP00224   \n",
       "198  2 Trinity College Feb 6 1669.Cambridge. Sir Mr...  NATP00225   \n",
       "201  5. Feb 18th 166970. Sir Two days since I recei...  NATP00228   \n",
       "..                                                 ...        ...   \n",
       "251  68* May it please your Grace The letter you we...  NATP00278   \n",
       "26   6565Newton 24 Lond June the 3d. 1714 May it pl...  NATP00336   \n",
       "253  69 Honoured Sir I returned but last week to Ox...  NATP00280   \n",
       "254  70. In answer to the Memorial of Mr Nicholson ...  NATP00281   \n",
       "252  68 Dr Halley I received from you formerly a Ta...  NATP00279   \n",
       "\n",
       "    original_date_corrected  \n",
       "199     1668-02-23 00:00:00  \n",
       "200     1669-05-18 00:00:00  \n",
       "197     1669-01-19 00:00:00  \n",
       "198     1669-02-06 00:00:00  \n",
       "201     1669-02-18 00:00:00  \n",
       "..                      ...  \n",
       "251     1714-05-27 00:00:00  \n",
       "26      1714-06-03 00:00:00  \n",
       "253     1715-02-24 00:00:00  \n",
       "254     1718-01-01 00:00:00  \n",
       "252     1724-12-03 00:00:00  \n",
       "\n",
       "[142 rows x 10 columns]"
      ]
     },
     "execution_count": 44,
     "metadata": {},
     "output_type": "execute_result"
    }
   ],
   "source": [
    "letters"
   ]
  },
  {
   "cell_type": "code",
   "execution_count": 35,
   "id": "sorted-local",
   "metadata": {},
   "outputs": [
    {
     "data": {
      "text/plain": [
       "'3 Trinity College Cambridge Feb: 23d 16689 Sir I promised in a Letter to Mr Ent to give you an accompt of my Successe in a small attempt I had then in hand, And it is this; being perswaded of a certaine way whereby the Practicall part of Opticks might be promoted I thought it best to proceed by degrees and make a Small Prospective first to try whether my coniecture would hold good or not, The Instrument that I made is but Six Inches in Length, it beares something more then an Inch apperture, and a Plano=convex eye glasse whose depth is an o 16 or 17th part of an Inch, Soe that it Magnifies about 40 times in Diameter which is more then any 6 foote Tube can doe I beleeve with distinctnesse. But by reason of bad Materialls and for want of Good Pollish it represents not things so distinct as a 6. foote Tube will doe, yet I thinke it will discover as much as any 3. or 4. foote Tube especially if the Objects be Luminous; I have seen with it Iupiter distinctly round and his Satellites, and Venus horned. Thus Sir I have given you a short accompt of this small Instrument, which though in it selfe contemptible may yet be looked upon as an Epitome of what may be done according to this way, for I doubt not but in time a Six foote Tube may be made after this Method which will Performe as much as any 60. or 100. foote Tube made after the Common way; Whereas I am Perswaded that were a Tube made after the Common way of the Purest Glasse, exquisitly Pollished with the best figure that any Geometrician (Des=Cartes &c) hath or can designe (which I beleive is all that men have hitherto attempted or wished for) yet such a Tube would scarce performe as much more as an ordinary good Tube of the same length; And this however it may seeme a Paradoxicall assertion, yet it is the Necessary consequence of some Experiments which I have made concerning the Nature of Light. The above is Coppy of a Letter of a Letter written by Mr Newton to a freind of his The Tellescope therein mentioned hath been te lately sent up to the Royall Societie, who gave Mr Cox order to make one after the same manner of Contrivance 4 foot long the which hath been done: one end of the tube is open, at the other end is placed a Concave Mettalline Mirrour, the Diameter whereof is betwixt 4 and 5 Inches it was ground on a Sphære of 14 foot Diameter and about its focus which is about 4 foot off is placed a reflecting Plate as big as a two pence inclined at an angle angle of 45 degrees to the Axis, so that the reflected Rayes falling thereon, are againe reflected upright to the side of the Tellescope, where the eye through a small hole wherein is placed a small Plano Convex glasse beholds the Object on the reflecting Plate, as much magnified as it could have been done by an ordinary Tellescope of 40 foote long or more, and voyd of Colours: the Mirrour and reflecting Plate are made to be taken out, and wiped at pleasure: they are not yet pleased with the Mettall or Polish of the reflecting Plate, but are trying Lapis Osmandinus, a black Stone that comes from Mount Hecla in Island, and other Materialls whereof you may afterwards the s heare the Successe Mr Hooke,Hookes Tellescopes seeing this Tellescope to obtaine esteeme, about a Month since put in a Proposall in Writing to the Royall Societie in words to this effect The perfection of Tellescopes, Microscopes, Scotoscopes, and burning Glasses, by figures, as easily made, as those that are plaine, or Sphærericall, whereby the Light and Magnitude of Objects is prodigiously encreased and whatsoever hath hitherto been attempted or almost desired in Dioptricks accomplished, With a Cipher containing the Mysterie the which he disclosed to the Lord Brouncker, and Dr Wren, who report plausibly of it, and what is done in this way is performed by Glasse Refraction Mr Hooke moreover affirmed coram multis that in the yeare 1664 he made a little Tube of about an Inch long, to put in his fobb, which performes more than any Tellescope of 50 foot long made after the common manner; but the Plague happening, which caused his absence, and the fire, whence redounded profitable employments about the Citty, he neglected to prosecute the same, being unwilling the Glasse grinders should know any thing of the Secret, Gottignies as a iesuite writes me word hath Gottignies the Scholar of Gregory of St Vincent, whose remaines he hath, is said to have made wonderfull (but in what respect I know not) Tellescopes at Rome, and to have published a Treatise of Dioptricks there. Another usefull Instrument lately invented here, is Sir Samuell Morelands loud speaking Trumpett, of which he hath written a Booke or history with the title of Tuba Stentorophonica value one shilling, by which persons may discourse at about a Mile and a halfes distance, if not more John Collins'"
      ]
     },
     "execution_count": 35,
     "metadata": {},
     "output_type": "execute_result"
    }
   ],
   "source": [
    "letters.iloc[0].letter_content"
   ]
  },
  {
   "cell_type": "markdown",
   "id": "surrounded-nickname",
   "metadata": {},
   "source": [
    "## Data exploration"
   ]
  },
  {
   "cell_type": "markdown",
   "id": "floral-orbit",
   "metadata": {},
   "source": [
    "### Counting "
   ]
  },
  {
   "cell_type": "code",
   "execution_count": 36,
   "id": "western-bride",
   "metadata": {},
   "outputs": [
    {
     "data": {
      "image/png": "[encoded data removed]",
      "text/plain": [
       "<Figure size 720x360 with 1 Axes>"
      ]
     },
     "metadata": {
      "needs_background": "light"
     },
     "output_type": "display_data"
    }
   ],
   "source": [
    "top_10_authors = letters.author.value_counts().index.to_list()[:20]\n",
    "fig, axes = plt.subplots(figsize = (10, 5))\n",
    "sns.countplot(data = letters[letters[\"author\"].isin(top_10_authors)], x=\"author\")\n",
    "plt.xticks(rotation=\"vertical\")\n",
    "plt.title(\"Top 10 most recurring authors\")\n",
    "plt.show()"
   ]
  },
  {
   "cell_type": "code",
   "execution_count": 37,
   "id": "changed-report",
   "metadata": {},
   "outputs": [
    {
     "data": {
      "image/png": "[encoded data removed]",
      "text/plain": [
       "<Figure size 720x360 with 1 Axes>"
      ]
     },
     "metadata": {
      "needs_background": "light"
     },
     "output_type": "display_data"
    }
   ],
   "source": [
    "fig, axes = plt.subplots(figsize = (10, 5))\n",
    "sns.countplot(data = letters.explode(\"languages\"), x = \"languages\")\n",
    "plt.xticks(rotation=\"vertical\")\n",
    "plt.title(\"Language usage\")\n",
    "plt.show()"
   ]
  },
  {
   "cell_type": "code",
   "execution_count": 38,
   "id": "complex-grocery",
   "metadata": {},
   "outputs": [
    {
     "data": {
      "text/plain": [
       "<AxesSubplot:title={'center':'Total number of letters per year'}, xlabel='original_date_corrected', ylabel='Count'>"
      ]
     },
     "execution_count": 38,
     "metadata": {},
     "output_type": "execute_result"
    },
    {
     "data": {
      "image/png": "[encoded data removed]",
      "text/plain": [
       "<Figure size 1800x360 with 3 Axes>"
      ]
     },
     "metadata": {
      "needs_background": "light"
     },
     "output_type": "display_data"
    }
   ],
   "source": [
    "fig, axes = plt.subplots(1,3, figsize = (25, 5))\n",
    "\n",
    "axes[0].set_title(\"Letters sent by Newton\", fontsize=20)\n",
    "sns.histplot(data = letters.query(\"author == 'Isaac Newton'\"), x = \"original_date_corrected\", bins=50, ax=axes[0], color=\"red\")\n",
    "axes[1].set_title(\"Letters received by Newton\", fontsize=20)\n",
    "sns.histplot(data = letters.query(\"author != 'Isaac Newton'\"), x = \"original_date_corrected\", bins=50, ax=axes[1], color=\"green\")\n",
    "axes[2].set_title(\"Total number of letters per year\", fontsize=20)\n",
    "sns.histplot(data = letters, x = \"original_date_corrected\", bins=50, ax=axes[2])"
   ]
  },
  {
   "cell_type": "markdown",
   "id": "beneficial-temperature",
   "metadata": {},
   "source": [
    "### Content analysis"
   ]
  },
  {
   "cell_type": "markdown",
   "id": "taken-concept",
   "metadata": {},
   "source": [
    "Making a Spacy object with the first 100 letter"
   ]
  },
  {
   "cell_type": "code",
   "execution_count": 39,
   "id": "virgin-telephone",
   "metadata": {},
   "outputs": [],
   "source": [
    "nlp.max_length = 1_600_000\n",
    "doc = nlp(\" \".join(letters[letters[\"languages\"].apply(lambda row : \"English\" in row)].letter_content.values))"
   ]
  },
  {
   "cell_type": "markdown",
   "id": "prescribed-abuse",
   "metadata": {},
   "source": [
    "Counting the most reccuring words in these letters and printing the top 20 ones"
   ]
  },
  {
   "cell_type": "code",
   "execution_count": 40,
   "id": "adverse-template",
   "metadata": {},
   "outputs": [
    {
     "name": "stdout",
     "output_type": "stream",
     "text": [
      "[('colours', 676), ('Mr', 568), ('light', 368), ('colour', 259), ('rays', 248), ('et', 235), ('parts', 234), ('shall', 214), ('Prism', 206), ('little', 200), ('water', 191), ('Newton', 190), ('bodies', 185), ('Air', 185), ('Sir', 181), ('white', 175), ('great', 163), ('like', 158), ('letter', 155), ('Red', 154), ('greater', 153), ('suppose', 151), ('found', 150), ('distance', 146), ('way', 144), ('eye', 142), ('severall', 140), ('order', 139), ('2', 137), ('hath', 134), ('refraction', 133), ('reflected', 129), ('bee', 128), ('=', 127), ('think', 127), ('+', 126), ('sent', 124), ('glasses', 124), ('yellow', 124), ('ad', 123), ('blew', 119), ('de', 117), ('thicknesse', 116), ('reason', 113), ('time', 113), ('red', 112), ('3', 109), ('second', 108), ('Blew', 107), ('things', 106), ('body', 106), ('series', 105), ('reflexion', 105), ('Azimuth', 105), ('said', 104), ('5', 102), ('4', 101), ('know', 101), ('est', 101), ('rayes', 101)]\n"
     ]
    }
   ],
   "source": [
    "from collections import Counter\n",
    "\n",
    "#Without stopwords and punctuation\n",
    "words = [token.text for token in doc if token.is_stop != True and token.is_punct != True]\n",
    "\n",
    "# five most common tokens\n",
    "word_freq = Counter(words)\n",
    "common_words = word_freq.most_common()\n",
    "\n",
    "print(common_words[:60])"
   ]
  },
  {
   "cell_type": "code",
   "execution_count": 41,
   "id": "catholic-engine",
   "metadata": {},
   "outputs": [],
   "source": [
    "with open(\"newton_religious_vocabulary.txt\", \"r\") as file:\n",
    "    religion_voc = file.read().replace(\", \", \",\").split(\",\")"
   ]
  },
  {
   "cell_type": "code",
   "execution_count": 43,
   "id": "tender-spiritual",
   "metadata": {},
   "outputs": [
    {
     "name": "stdout",
     "output_type": "stream",
     "text": [
      "history\n",
      "god\n",
      "law\n",
      "law\n",
      "primitive\n",
      "primitive\n",
      "history\n",
      "god\n",
      "god\n",
      "philosophy\n",
      "10\n"
     ]
    }
   ],
   "source": [
    "n=0\n",
    "x = 0\n",
    "for w in words:\n",
    "    x+= 1\n",
    "    for v in religion_voc:\n",
    "        if w == v:\n",
    "            print(w)\n",
    "            n+=1\n",
    "print(n)"
   ]
  },
  {
   "cell_type": "code",
   "execution_count": 17,
   "id": "flexible-mayor",
   "metadata": {},
   "outputs": [
    {
     "ename": "AttributeError",
     "evalue": "'spacy.tokens.token.Token' object has no attribute 'ents'",
     "output_type": "error",
     "traceback": [
      "\u001b[1;31m---------------------------------------------------------------------------\u001b[0m",
      "\u001b[1;31mAttributeError\u001b[0m                            Traceback (most recent call last)",
      "\u001b[1;32m<ipython-input-17-761e72595496>\u001b[0m in \u001b[0;36m<module>\u001b[1;34m\u001b[0m\n\u001b[0;32m      1\u001b[0m \u001b[1;31m#Without stopwords and punctuation\u001b[0m\u001b[1;33m\u001b[0m\u001b[1;33m\u001b[0m\u001b[1;33m\u001b[0m\u001b[0m\n\u001b[1;32m----> 2\u001b[1;33m \u001b[0ments\u001b[0m \u001b[1;33m=\u001b[0m \u001b[1;33m[\u001b[0m\u001b[0mtoken\u001b[0m\u001b[1;33m.\u001b[0m\u001b[0ments\u001b[0m \u001b[1;32mfor\u001b[0m \u001b[0mtoken\u001b[0m \u001b[1;32min\u001b[0m \u001b[0mdoc\u001b[0m \u001b[1;32mif\u001b[0m \u001b[0mtoken\u001b[0m\u001b[1;33m.\u001b[0m\u001b[0mis_stop\u001b[0m \u001b[1;33m!=\u001b[0m \u001b[1;32mTrue\u001b[0m \u001b[1;32mand\u001b[0m \u001b[0mtoken\u001b[0m\u001b[1;33m.\u001b[0m\u001b[0mis_punct\u001b[0m \u001b[1;33m!=\u001b[0m \u001b[1;32mTrue\u001b[0m\u001b[1;33m]\u001b[0m\u001b[1;33m\u001b[0m\u001b[1;33m\u001b[0m\u001b[0m\n\u001b[0m",
      "\u001b[1;32m<ipython-input-17-761e72595496>\u001b[0m in \u001b[0;36m<listcomp>\u001b[1;34m(.0)\u001b[0m\n\u001b[0;32m      1\u001b[0m \u001b[1;31m#Without stopwords and punctuation\u001b[0m\u001b[1;33m\u001b[0m\u001b[1;33m\u001b[0m\u001b[1;33m\u001b[0m\u001b[0m\n\u001b[1;32m----> 2\u001b[1;33m \u001b[0ments\u001b[0m \u001b[1;33m=\u001b[0m \u001b[1;33m[\u001b[0m\u001b[0mtoken\u001b[0m\u001b[1;33m.\u001b[0m\u001b[0ments\u001b[0m \u001b[1;32mfor\u001b[0m \u001b[0mtoken\u001b[0m \u001b[1;32min\u001b[0m \u001b[0mdoc\u001b[0m \u001b[1;32mif\u001b[0m \u001b[0mtoken\u001b[0m\u001b[1;33m.\u001b[0m\u001b[0mis_stop\u001b[0m \u001b[1;33m!=\u001b[0m \u001b[1;32mTrue\u001b[0m \u001b[1;32mand\u001b[0m \u001b[0mtoken\u001b[0m\u001b[1;33m.\u001b[0m\u001b[0mis_punct\u001b[0m \u001b[1;33m!=\u001b[0m \u001b[1;32mTrue\u001b[0m\u001b[1;33m]\u001b[0m\u001b[1;33m\u001b[0m\u001b[1;33m\u001b[0m\u001b[0m\n\u001b[0m",
      "\u001b[1;31mAttributeError\u001b[0m: 'spacy.tokens.token.Token' object has no attribute 'ents'"
     ]
    }
   ],
   "source": [
    "#Without stopwords and punctuation\n",
    "ents = [token.ents for token in doc if token.is_stop != True and token.is_punct != True]"
   ]
  },
  {
   "cell_type": "code",
   "execution_count": 50,
   "id": "prostate-deputy",
   "metadata": {},
   "outputs": [
    {
     "data": {
      "text/plain": [
       "\"4 Trinity College Cambridge May 18 1669 Francis: Since in your letter you give mee so much liberty of spending my Judgment about what may bee to your advantage in travelling, I shall doe it more freely then perhaps would otherwise have beene decent. First therefore I will lay down some generall rules most of which I beleve you have considered already; but if any of them bee new to you they may excuse the rest, if none at all yet tis my punisment more in writing them then yours in reading them. When you come into any fresh company, 1, observe their humours; 2 suit your own carriage thereto, by which insinuation you will make their converse more free & open: 3 let your discours bee more in Quærys & doubtings than peremptory assertions or disputings, it being the designe of Travellers to learne not teach; besides it will persuade your acquaintance that you have the greater esteem of them & soe make them more ready to communicate what they know to you; whereas nothing sooner occasions disrespect & quarrells then peremptorinesse. You will find little or noe advantage in seeming wiser or much more ignorant than your company. 4, seldome discommend any thing though never so bad, or doe it but moderatly, least you bee unexpectedly forced to an unhansom retraction. Tis safer to commend any thing more then it deserves then to discommend a thing so much as it deserves: a bad For commendantionscommendations meet not soe often with oppositions or at least are not usually so ill resented by men if that think otherwise as discommendations. And you will insinuate into mens favour by nothing sooner then seeming to approve & commend what they like; but beware of doing it by a comparison. 5 If you bee affronted, tis better in a forrain Country to passe it by in silence or with a jest though with some dishonour then to endeavour revenge; For in the first case your credit's ne're the wors when you return into England or come into other company that have not heard of the quarrell, but in the second case you may beare the marks of the quarrell while you live, if you out live it att all. But if you find your self unavoydably engaged tis best, I think, if you can command your passion & language, to keep them pretty eavenly at the some certain moderate pitch, not much heightning them to exasperate the adversary or provoke his freinds nor letting them grow overmuch dejected to make him insult. In a word if you can keep reason above passion, that & watchfulnesse will bee your best defendants. To which purpose you may consider that though such excuses as this [He provok't mee so much I could not forbeare] may passe amongst freinds yet amongst strangers they are insignificant & only argue a Travellers weaknesse. To these I may ad some generall heads for inquirys or observations such as at present I can think on. As 1 to observe the policys wealth & State affaires of nations so far as a solitary Traveller may conveniently doe. 2 Their impositions upon all sorts of People Trades or commoditys that are remarpkeable. 3 Their Laws & Customes how far they differ from ours. 4 Their Trades & Arts wherin they excell or come short of us in England. 5 Such fortifications as you shall meet with, their fashion strength & advantages for defence; & other such military affaires as are considerable. 6 The power & respect belonging to their degrees of nobility or Magistracy. 7 Wh you c It will not bee time mispent to make a Catalogue of the names & excellencys of those men that are most wise learned or esteemed in any nation. 8 Observe the Mechanisme & man̄nner of guiding ships. 9 Observe the products of nature in severall places especially in mines with the circumstances of mining & of extracting metalls or mineralls out of their oare and refining them and if you meet with any transmutations out of one species into another (as out of Iron into Copper, out of any metall into quicksilver, out of one salt into another or into an insipid body &c) those above all others will bee worth your noting being the most luciferous & many times lucriferous experiments too in Philosophy. 10 The prizes of diet & other things. 11 & And the staple commoditys of Places. These Generalls (such as at present I could think of) if they will serve for nothing else yet they may assist you in drawing up a Modell to regulate your Travels by As for particulars these that follow are all that I can now think of, viz: Whither at Schemnitium in Hungary (where there are Mines of Gold, copper, Iron, vitrioll, Antimony, &c) they change Iron into Copper by dissolving it in a Vitriolate water which they find in cavitys of rocks in the mines & then melting the slymy solution in a strong fire which in the cooling proves copper. The like is said to bee done in other places which I cannot now remember. Perhaps too it may bee done in Italy; For about 20 or 30 years algone there was a certain Vitriol came from thence (called Roman Vitrioll, but of a nobler vertue than that which is now called by that name) which Vitrioll is not now to bee gotten becaus perhaps they make a greater gain by some such trick as turning Iron into Copper with it then by selling it. 2 Whither in Hungary, Sclavonia, Bohemia neare the town Eila, or at the Mountains of Bohemia neare Silesia there be rivers whose waters are impregnated with gold; perhaps the Gold being dissolved by som corrosive waters like Aqua Regis & the solution carried along with the streame that runs through the mines. And whither the practise of laying mercury in the rivers till it be tinged with gold & then straining the mercury through leather that the gold may stay behind, bee a secret yet or openly practised. 3 There is newly contrived in Holland a mill to grind glasses plane with all & I think polishing them too, perhaps it will bee worth the while to see it. 4 There is in Holland one — Bory, who some yeares since was imprisoned by the Pope to have extorted from him some secrets (as I am told) of great worth both as to medicine & profit, but hee escaped into Holland where they have granted him a guard. I think he usually goes clothed in green pray enquire what you can of him, & whither his ingenuity bee any profit to the Dutch. 5 You may inform your selfe whither the Dutch have any tricks to keep their ships from being all worm eaten in their voyages to the Indys. Whither Pendulum clocks doe any service in finding out the longitude &c. I am very weary & shall not stayd to part with a long complement only I wish you a Good Iourney & God bee with you Is Newton. Pray let us heare from you in your Travells. I have given your 2 books to Dsr Arrowsmith.\""
      ]
     },
     "execution_count": 50,
     "metadata": {},
     "output_type": "execute_result"
    }
   ],
   "source": [
    "letters[letters[\"languages\"].apply(lambda row : \"Latin\" in row)].letter_content.iloc[1]"
   ]
  },
  {
   "cell_type": "code",
   "execution_count": null,
   "id": "major-president",
   "metadata": {},
   "outputs": [],
   "source": [
    "letters"
   ]
  }
 ],
 "metadata": {
  "kernelspec": {
   "display_name": "Python 3",
   "language": "python",
   "name": "python3"
  },
  "language_info": {
   "codemirror_mode": {
    "name": "ipython",
    "version": 3
   },
   "file_extension": ".py",
   "mimetype": "text/x-python",
   "name": "python",
   "nbconvert_exporter": "python",
   "pygments_lexer": "ipython3",
   "version": "3.8.8"
  }
 },
 "nbformat": 4,
 "nbformat_minor": 5
}
