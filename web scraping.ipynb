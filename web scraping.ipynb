{
 "cells": [
  {
   "cell_type": "markdown",
   "id": "specified-laser",
   "metadata": {},
   "source": [
    "## Imports"
   ]
  },
  {
   "cell_type": "code",
   "execution_count": 38,
   "id": "dutch-muscle",
   "metadata": {},
   "outputs": [],
   "source": [
    "import requests\n",
    "import re\n",
    "from bs4 import BeautifulSoup\n",
    "import pandas as pd"
   ]
  },
  {
   "cell_type": "markdown",
   "id": "needed-maker",
   "metadata": {},
   "source": [
    "## Scraping all article IDs"
   ]
  },
  {
   "cell_type": "markdown",
   "id": "maritime-hobby",
   "metadata": {},
   "source": [
    "On the Newton's Project website, there are always 25 articles per page and there are 25 pages of correspondance."
   ]
  },
  {
   "cell_type": "code",
   "execution_count": 2,
   "id": "chicken-colleague",
   "metadata": {},
   "outputs": [],
   "source": [
    "number_of_pages = 18\n",
    "articles_per_page = 25"
   ]
  },
  {
   "cell_type": "markdown",
   "id": "fifty-testimony",
   "metadata": {},
   "source": [
    "For each page, we get its HTML content and parse it with BeautifulSoup. Then we simply temporarly store it in an array"
   ]
  },
  {
   "cell_type": "code",
   "execution_count": 3,
   "id": "interested-format",
   "metadata": {},
   "outputs": [],
   "source": [
    "html_soups = []\n",
    "for page in range(number_of_pages):\n",
    "    start_article_number = page * articles_per_page + 1\n",
    "    url = f\"http://www.newtonproject.ox.ac.uk/texts/correspondence/all?n=25&sr={start_article_number}&cat=Correspondence&tr=1&sort=shelfmark&order=asc\"\n",
    "    r = requests.get(url)\n",
    "    soup = BeautifulSoup(r.text, 'html.parser')\n",
    "    html_soups.append(soup)"
   ]
  },
  {
   "cell_type": "markdown",
   "id": "understood-ticket",
   "metadata": {},
   "source": [
    "Using BeautifulSoup, we extract the article IDs from each HTML pages. These IDs are all in `p` tags with the `metadataContent` class. To retrieve the IDs only we use a Regular Expression that looks for 4 upper characters followed by 5 numbers."
   ]
  },
  {
   "cell_type": "code",
   "execution_count": 4,
   "id": "attractive-design",
   "metadata": {},
   "outputs": [],
   "source": [
    "article_ids = []\n",
    "for soup in html_soups:\n",
    "    metadata = soup.find_all(\"p\", class_=\"metadataContent\")\n",
    "    for metadatum in metadata:\n",
    "        ids = re.findall(\"[A-Z]{4}[0-9]{5}\", metadatum.text)\n",
    "        if len(ids) > 0:\n",
    "            article_ids.append(ids[0])\n",
    "assert(len(article_ids) == 431)"
   ]
  },
  {
   "cell_type": "markdown",
   "id": "fallen-redhead",
   "metadata": {},
   "source": [
    "## Retrieve XML files"
   ]
  },
  {
   "cell_type": "markdown",
   "id": "noble-feeling",
   "metadata": {},
   "source": [
    "Once we have a list of IDs, we can simply query the corresponding XML file and parse it with BS"
   ]
  },
  {
   "cell_type": "code",
   "execution_count": 27,
   "id": "disciplinary-injection",
   "metadata": {},
   "outputs": [],
   "source": [
    "xml_soups = []\n",
    "for article_id in article_ids:\n",
    "    url = f\"http://www.newtonproject.ox.ac.uk/view/texts/xml/{article_id}\"\n",
    "    r = requests.get(url)\n",
    "    soup = BeautifulSoup(r.text, \"xml\")\n",
    "    xml_soups.append(soup)\n",
    "\n",
    "assert(len(xml_soups) == 431)"
   ]
  },
  {
   "cell_type": "markdown",
   "id": "threaded-leeds",
   "metadata": {},
   "source": [
    "We can now simply iterate through each XML and get the useful information. This information is stored in a list of lists that will be used to build a DataFrame"
   ]
  },
  {
   "cell_type": "code",
   "execution_count": 42,
   "id": "static-price",
   "metadata": {},
   "outputs": [],
   "source": [
    "entries = []\n",
    "for xml in xml_soups:\n",
    "    #Removes abbreviations. e.g. there are 2 versions for the word \"Sir\", namely the abbreviation \"Sr\" and the complete word \"Sir\".\n",
    "    for abbr in xml(\"abbr\"):\n",
    "        abbr.decompose()\n",
    "        \n",
    "    author = xml.find(\"author\").text.replace(\"\\n\", \" \").strip(\" \")\n",
    "    content = xml.find(\"div\").text\n",
    "    \n",
    "    entries.append([author, content])"
   ]
  },
  {
   "cell_type": "markdown",
   "id": "graphic-trinidad",
   "metadata": {},
   "source": [
    "Now we can actively build the DataFrame using the article IDs as indices"
   ]
  },
  {
   "cell_type": "code",
   "execution_count": 44,
   "id": "reported-shanghai",
   "metadata": {},
   "outputs": [
    {
     "data": {
      "text/html": [
       "<div>\n",
       "<style scoped>\n",
       "    .dataframe tbody tr th:only-of-type {\n",
       "        vertical-align: middle;\n",
       "    }\n",
       "\n",
       "    .dataframe tbody tr th {\n",
       "        vertical-align: top;\n",
       "    }\n",
       "\n",
       "    .dataframe thead th {\n",
       "        text-align: right;\n",
       "    }\n",
       "</style>\n",
       "<table border=\"1\" class=\"dataframe\">\n",
       "  <thead>\n",
       "    <tr style=\"text-align: right;\">\n",
       "      <th></th>\n",
       "      <th>author</th>\n",
       "      <th>letter_content</th>\n",
       "    </tr>\n",
       "  </thead>\n",
       "  <tbody>\n",
       "    <tr>\n",
       "      <th>NATP00307</th>\n",
       "      <td>Isaac Newton</td>\n",
       "      <td>\\n35Newton 135\\nCambridg March 16th 1671.\\nSir...</td>\n",
       "    </tr>\n",
       "    <tr>\n",
       "      <th>NATP00308</th>\n",
       "      <td>Isaac Newton</td>\n",
       "      <td>\\n36Newton 236Trans 1672\\n\\nMr Newtons Letter ...</td>\n",
       "    </tr>\n",
       "    <tr>\n",
       "      <th>NATP00309</th>\n",
       "      <td>Isaac Newton</td>\n",
       "      <td>\\n37Newton 337\\n\\nRead Jan: 11: 16712\\nEntd. L...</td>\n",
       "    </tr>\n",
       "    <tr>\n",
       "      <th>NATP00310</th>\n",
       "      <td>Isaac Newton</td>\n",
       "      <td>\\n38Newton 438.\\nTrin. Coll. April 13. 72.\\n\\n...</td>\n",
       "    </tr>\n",
       "    <tr>\n",
       "      <th>NATP00311</th>\n",
       "      <td>Isaac Newton</td>\n",
       "      <td>\\n\\n39\\nNewton 5\\n39\\nJune 11th 1672.\\n\\nRead ...</td>\n",
       "    </tr>\n",
       "    <tr>\n",
       "      <th>...</th>\n",
       "      <td>...</td>\n",
       "      <td>...</td>\n",
       "    </tr>\n",
       "    <tr>\n",
       "      <th>NATP00006</th>\n",
       "      <td>Isaac Newton</td>\n",
       "      <td>\\n(3075)\\nPHILOSOPHICAL TRANSACTIONS. February...</td>\n",
       "    </tr>\n",
       "    <tr>\n",
       "      <th>NATP00015</th>\n",
       "      <td>Ignace Gaston Pardies</td>\n",
       "      <td>\\n\\nA Second Letter of P. Pardies, written to ...</td>\n",
       "    </tr>\n",
       "    <tr>\n",
       "      <th>NATP00011</th>\n",
       "      <td>Robert Moray</td>\n",
       "      <td>\\nSome Experiments propos'd in relation to Mr....</td>\n",
       "    </tr>\n",
       "    <tr>\n",
       "      <th>NATP00012</th>\n",
       "      <td>Ignace Gaston Pardies</td>\n",
       "      <td>\\n\\n(4087)\\nA Latin Letter written to the Publ...</td>\n",
       "    </tr>\n",
       "    <tr>\n",
       "      <th>NATP00028</th>\n",
       "      <td>Isaac Newton</td>\n",
       "      <td>\\nMr. Isaac Newtons Answer to some Considerati...</td>\n",
       "    </tr>\n",
       "  </tbody>\n",
       "</table>\n",
       "<p>431 rows × 2 columns</p>\n",
       "</div>"
      ],
      "text/plain": [
       "                          author  \\\n",
       "NATP00307           Isaac Newton   \n",
       "NATP00308           Isaac Newton   \n",
       "NATP00309           Isaac Newton   \n",
       "NATP00310           Isaac Newton   \n",
       "NATP00311           Isaac Newton   \n",
       "...                          ...   \n",
       "NATP00006           Isaac Newton   \n",
       "NATP00015  Ignace Gaston Pardies   \n",
       "NATP00011           Robert Moray   \n",
       "NATP00012  Ignace Gaston Pardies   \n",
       "NATP00028           Isaac Newton   \n",
       "\n",
       "                                              letter_content  \n",
       "NATP00307  \\n35Newton 135\\nCambridg March 16th 1671.\\nSir...  \n",
       "NATP00308  \\n36Newton 236Trans 1672\\n\\nMr Newtons Letter ...  \n",
       "NATP00309  \\n37Newton 337\\n\\nRead Jan: 11: 16712\\nEntd. L...  \n",
       "NATP00310  \\n38Newton 438.\\nTrin. Coll. April 13. 72.\\n\\n...  \n",
       "NATP00311  \\n\\n39\\nNewton 5\\n39\\nJune 11th 1672.\\n\\nRead ...  \n",
       "...                                                      ...  \n",
       "NATP00006  \\n(3075)\\nPHILOSOPHICAL TRANSACTIONS. February...  \n",
       "NATP00015  \\n\\nA Second Letter of P. Pardies, written to ...  \n",
       "NATP00011  \\nSome Experiments propos'd in relation to Mr....  \n",
       "NATP00012  \\n\\n(4087)\\nA Latin Letter written to the Publ...  \n",
       "NATP00028  \\nMr. Isaac Newtons Answer to some Considerati...  \n",
       "\n",
       "[431 rows x 2 columns]"
      ]
     },
     "execution_count": 44,
     "metadata": {},
     "output_type": "execute_result"
    }
   ],
   "source": [
    "pd.DataFrame(entries, columns=[\"author\", \"letter_content\"], index = article_ids)"
   ]
  }
 ],
 "metadata": {
  "kernelspec": {
   "display_name": "Python 3",
   "language": "python",
   "name": "python3"
  },
  "language_info": {
   "codemirror_mode": {
    "name": "ipython",
    "version": 3
   },
   "file_extension": ".py",
   "mimetype": "text/x-python",
   "name": "python",
   "nbconvert_exporter": "python",
   "pygments_lexer": "ipython3",
   "version": "3.8.8"
  }
 },
 "nbformat": 4,
 "nbformat_minor": 5
}
