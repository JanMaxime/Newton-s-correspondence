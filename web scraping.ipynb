{
 "cells": [
  {
   "cell_type": "markdown",
   "id": "appreciated-extraction",
   "metadata": {},
   "source": [
    "## Code purpose\n",
    "This code allows to recover all the letters on the Newton Project. To do this, it first recover all the letters ID which allows to get the correspondant XML file containing : some metadata about the letter and the text of the letter itself. It then stores these informations in a DataFrame which we save in pickle format.\n"
   ]
  },
  {
   "cell_type": "markdown",
   "id": "dress-theme",
   "metadata": {},
   "source": [
    "## Imports"
   ]
  },
  {
   "cell_type": "code",
   "execution_count": 1,
   "id": "dressed-father",
   "metadata": {},
   "outputs": [],
   "source": [
    "import requests\n",
    "import re\n",
    "from bs4 import BeautifulSoup\n",
    "import pandas as pd"
   ]
  },
  {
   "cell_type": "markdown",
   "id": "cellular-beach",
   "metadata": {},
   "source": [
    "## Scraping all article IDs"
   ]
  },
  {
   "cell_type": "markdown",
   "id": "neutral-ghana",
   "metadata": {},
   "source": [
    "On the Newton's Project website, there are 25 articles per page and there are 18 pages of correspondance. We need these informations for the parsing, because of the GET parameters used in the URL to display the letters. "
   ]
  },
  {
   "cell_type": "code",
   "execution_count": 2,
   "id": "correct-candidate",
   "metadata": {},
   "outputs": [],
   "source": [
    "number_of_pages = 18\n",
    "articles_per_page = 25\n",
    "total_letters = 431"
   ]
  },
  {
   "cell_type": "markdown",
   "id": "fiscal-appeal",
   "metadata": {},
   "source": [
    "For each page, we get its full HTML content and parse it with BeautifulSoup. Then we simply temporarly store it in an array."
   ]
  },
  {
   "cell_type": "code",
   "execution_count": 3,
   "id": "entitled-accounting",
   "metadata": {
    "tags": []
   },
   "outputs": [],
   "source": [
    "html_soups = []\n",
    "for page in range(number_of_pages):\n",
    "    start_article_number = page * articles_per_page + 1\n",
    "    url = f\"http://www.newtonproject.ox.ac.uk/texts/correspondence/all?n=25&sr={start_article_number}&cat=Correspondence\"\n",
    "    r = requests.get(url)\n",
    "    soup = BeautifulSoup(r.text, 'html.parser')\n",
    "    html_soups.append(soup)\n",
    "    \n",
    "    \n"
   ]
  },
  {
   "cell_type": "markdown",
   "id": "fatal-cameroon",
   "metadata": {},
   "source": [
    "Using BeautifulSoup, we extract the article IDs from each HTML pages which will allow us to get the correspondings XML. These IDs are all in `p` tags with the `metadataContent` class. As this `p` tag also contains a `strong` tag containing the front-end title \"Newton Catalogue ID\", we need to exclude this tag. All letters ID are composed by 4 upper characters and 5 digits. To retrieve these IDs only, we use a Regular Expression that correspond to the ID characters composition."
   ]
  },
  {
   "cell_type": "code",
   "execution_count": 4,
   "id": "lucky-robert",
   "metadata": {},
   "outputs": [],
   "source": [
    "article_ids = []\n",
    "for soup in html_soups:\n",
    "    metadata = soup.find_all(\"p\", class_=\"metadataContent\")\n",
    "    for metadatum in metadata:\n",
    "        ids = re.findall(\"[A-Z]{4}[0-9]{5}\", metadatum.text)\n",
    "        if len(ids) > 0:\n",
    "            article_ids.append(ids[0])\n",
    "assert(len(article_ids) == total_letters)\n"
   ]
  },
  {
   "cell_type": "markdown",
   "id": "wound-salmon",
   "metadata": {},
   "source": [
    "## Retrieve XML files"
   ]
  },
  {
   "cell_type": "markdown",
   "id": "hourly-curtis",
   "metadata": {},
   "source": [
    "Once we have a list of IDs, we can simply query the corresponding XML file and parse it with BS."
   ]
  },
  {
   "cell_type": "code",
   "execution_count": 5,
   "id": "homeless-sunday",
   "metadata": {},
   "outputs": [],
   "source": [
    "xml_soups = []\n",
    "for article_id in article_ids:\n",
    "    url = f\"http://www.newtonproject.ox.ac.uk/view/texts/xml/{article_id}\"\n",
    "    r = requests.get(url)\n",
    "    soup = BeautifulSoup(r.text, \"xml\")\n",
    "    xml_soups.append(soup)\n",
    "\n",
    "assert(len(xml_soups) == total_letters)"
   ]
  },
  {
   "cell_type": "markdown",
   "id": "aerial-significance",
   "metadata": {},
   "source": [
    "We can now simply iterate through each XML and get the useful information. This information is stored in a list of lists that will be used to build a DataFrame."
   ]
  },
  {
   "cell_type": "code",
   "execution_count": 17,
   "id": "blind-venice",
   "metadata": {},
   "outputs": [],
   "source": [
    "entries = []\n",
    "for xml in xml_soups:\n",
    "    catDesc = xml.find(\"catDesc\").text\n",
    "    #Removes abbreviations. e.g. there are 2 versions for the word \"Sir\", namely the abbreviation \"Sr\" and the complete word \"Sir\".\n",
    "    for abbr in xml(\"abbr\"):\n",
    "        abbr.decompose()\n",
    "        \n",
    "    author = xml.find(\"author\").text.replace(\"\\n\", \" \").strip(\" \")\n",
    "\n",
    "    #This may not be entirely correct to query div\n",
    "    letter_content = xml.find(\"div\").text\n",
    "    if letter_content is not None:\n",
    "        letter_content = \" \".join(letter_content.split())\n",
    "    else:\n",
    "        letter_content = \"\"\n",
    "   \n",
    "    original_date = xml.find(\"origDate\").text\n",
    "    manuscript = xml.find(\"idno\")\n",
    "    if manuscript is not None:\n",
    "        manuscript = manuscript.text\n",
    "    original_place = xml.find(\"origPlace\")\n",
    "    title = xml.find(\"title\").text\n",
    "    if original_place is not None:\n",
    "        original_place = original_place.text\n",
    "    else:\n",
    "        original_place = \"Unknown\"\n",
    "        \n",
    "    languages = [lang.text for lang in xml.find_all(\"language\")]\n",
    "    entries.append([author, catDesc, title, manuscript, original_date, original_place, languages, letter_content])"
   ]
  },
  {
   "cell_type": "markdown",
   "id": "affiliated-baker",
   "metadata": {},
   "source": [
    "Now we can actively build the DataFrame using the article IDs as indices"
   ]
  },
  {
   "cell_type": "code",
   "execution_count": 23,
   "id": "pending-convenience",
   "metadata": {},
   "outputs": [],
   "source": [
    "letters = pd.DataFrame(entries, columns=[\"author\", \"category\", \"title\", \"manuscript\", \"original_date\", \"original_place\", \"languages\", \"letter_content\"], index = article_ids)"
   ]
  },
  {
   "cell_type": "code",
   "execution_count": 24,
   "id": "amended-vehicle",
   "metadata": {},
   "outputs": [
    {
     "data": {
      "text/html": [
       "<div>\n",
       "<style scoped>\n",
       "    .dataframe tbody tr th:only-of-type {\n",
       "        vertical-align: middle;\n",
       "    }\n",
       "\n",
       "    .dataframe tbody tr th {\n",
       "        vertical-align: top;\n",
       "    }\n",
       "\n",
       "    .dataframe thead th {\n",
       "        text-align: right;\n",
       "    }\n",
       "</style>\n",
       "<table border=\"1\" class=\"dataframe\">\n",
       "  <thead>\n",
       "    <tr style=\"text-align: right;\">\n",
       "      <th></th>\n",
       "      <th>author</th>\n",
       "      <th>category</th>\n",
       "      <th>title</th>\n",
       "      <th>manuscript</th>\n",
       "      <th>original_date</th>\n",
       "      <th>original_place</th>\n",
       "      <th>languages</th>\n",
       "      <th>letter_content</th>\n",
       "    </tr>\n",
       "  </thead>\n",
       "  <tbody>\n",
       "    <tr>\n",
       "      <th>NATP00226</th>\n",
       "      <td>Isaac Newton</td>\n",
       "      <td>Mathematics</td>\n",
       "      <td>Letter from Newton to a friend, together with ...</td>\n",
       "      <td>MS Add. 9597/2/18/3</td>\n",
       "      <td>23 February 1668/9</td>\n",
       "      <td>England</td>\n",
       "      <td>[English, Latin]</td>\n",
       "      <td>3 Trinity College Cambridge Feb: 23d 16689 Sir...</td>\n",
       "    </tr>\n",
       "    <tr>\n",
       "      <th>NATP00227</th>\n",
       "      <td>Isaac Newton</td>\n",
       "      <td>Mathematics</td>\n",
       "      <td>Letter from Newton to Francis Aston, dated 18 ...</td>\n",
       "      <td>MS Add. 9597/2/18/4</td>\n",
       "      <td>18 May 1669</td>\n",
       "      <td>England</td>\n",
       "      <td>[English, Latin]</td>\n",
       "      <td>4 Trinity College Cambridge May 18 1669 Franci...</td>\n",
       "    </tr>\n",
       "    <tr>\n",
       "      <th>NATP00224</th>\n",
       "      <td>Isaac Newton</td>\n",
       "      <td>Mathematics</td>\n",
       "      <td>Letter from Newton to John Collins, dated 19 J...</td>\n",
       "      <td>MS Add. 9597/2/18/1</td>\n",
       "      <td>19 January 1669/70</td>\n",
       "      <td>England</td>\n",
       "      <td>[English]</td>\n",
       "      <td>1 Trinity College Cambridge. Ian 1669 Sir I re...</td>\n",
       "    </tr>\n",
       "    <tr>\n",
       "      <th>NATP00225</th>\n",
       "      <td>Isaac Newton</td>\n",
       "      <td>Mathematics</td>\n",
       "      <td>Letter from Newton to John Collins, dated 6 Fe...</td>\n",
       "      <td>MS Add. 9597/2/18/2</td>\n",
       "      <td>6 February 1669/70</td>\n",
       "      <td>England</td>\n",
       "      <td>[English, French]</td>\n",
       "      <td>2 Trinity College Feb 6 1669.Cambridge. Sir Mr...</td>\n",
       "    </tr>\n",
       "    <tr>\n",
       "      <th>NATP00228</th>\n",
       "      <td>Isaac Newton</td>\n",
       "      <td>Mathematics</td>\n",
       "      <td>Letter from Newton to John Collins, dated 18 F...</td>\n",
       "      <td>MS Add. 9597/2/18/5</td>\n",
       "      <td>18 February 1669/70</td>\n",
       "      <td>England</td>\n",
       "      <td>[English]</td>\n",
       "      <td>5. Feb 18th 166970. Sir Two days since I recei...</td>\n",
       "    </tr>\n",
       "    <tr>\n",
       "      <th>...</th>\n",
       "      <td>...</td>\n",
       "      <td>...</td>\n",
       "      <td>...</td>\n",
       "      <td>...</td>\n",
       "      <td>...</td>\n",
       "      <td>...</td>\n",
       "      <td>...</td>\n",
       "      <td>...</td>\n",
       "    </tr>\n",
       "    <tr>\n",
       "      <th>NATP00279</th>\n",
       "      <td>Isaac Newton</td>\n",
       "      <td>Mathematics</td>\n",
       "      <td>Letter from Newton to Edmund Halley, dated 3 D...</td>\n",
       "      <td>MS Add. 9597/2/18/68</td>\n",
       "      <td>3 December 1724</td>\n",
       "      <td>England</td>\n",
       "      <td>[English, Latin]</td>\n",
       "      <td>68 Dr Halley I received from you formerly a Ta...</td>\n",
       "    </tr>\n",
       "    <tr>\n",
       "      <th>MINT01077</th>\n",
       "      <td>V Kidder Assay-Master in Ireland</td>\n",
       "      <td>Mint</td>\n",
       "      <td>Copy of report on the assay of several new Por...</td>\n",
       "      <td>T 27/24.110</td>\n",
       "      <td>6 Apr 1725</td>\n",
       "      <td>England</td>\n",
       "      <td>[English]</td>\n",
       "      <td>110 May it Please your Lordships In obedience ...</td>\n",
       "    </tr>\n",
       "    <tr>\n",
       "      <th>MINT01076</th>\n",
       "      <td>John Scrope Treasury Secretary</td>\n",
       "      <td>Mint</td>\n",
       "      <td>Copy of referral of report on the assay of sev...</td>\n",
       "      <td>T 27/24.110</td>\n",
       "      <td>23 Sep 1725</td>\n",
       "      <td>England</td>\n",
       "      <td>[English]</td>\n",
       "      <td>110 Officers of the Mint Gentlemen Mr: Kidder ...</td>\n",
       "    </tr>\n",
       "    <tr>\n",
       "      <th>MINT01078</th>\n",
       "      <td>John Scrope Treasury Secretary</td>\n",
       "      <td>Mint</td>\n",
       "      <td>Copy of letter recommending John Rollos for th...</td>\n",
       "      <td>T 27/24.175</td>\n",
       "      <td>16 Aug 1726</td>\n",
       "      <td>England</td>\n",
       "      <td>[English]</td>\n",
       "      <td>175. Warden, Master &amp; Worker and Comptroller o...</td>\n",
       "    </tr>\n",
       "    <tr>\n",
       "      <th>NATP00027</th>\n",
       "      <td>Isaac Newton</td>\n",
       "      <td>Science</td>\n",
       "      <td>An Instrument for observing the Moon's Distanc...</td>\n",
       "      <td>None</td>\n",
       "      <td>Published Oct.-Nov. 1742</td>\n",
       "      <td>England</td>\n",
       "      <td>[English]</td>\n",
       "      <td>[155] I. A true Copy of a Paper found, in the ...</td>\n",
       "    </tr>\n",
       "  </tbody>\n",
       "</table>\n",
       "<p>431 rows × 8 columns</p>\n",
       "</div>"
      ],
      "text/plain": [
       "                                     author     category  \\\n",
       "NATP00226                      Isaac Newton  Mathematics   \n",
       "NATP00227                      Isaac Newton  Mathematics   \n",
       "NATP00224                      Isaac Newton  Mathematics   \n",
       "NATP00225                      Isaac Newton  Mathematics   \n",
       "NATP00228                      Isaac Newton  Mathematics   \n",
       "...                                     ...          ...   \n",
       "NATP00279                      Isaac Newton  Mathematics   \n",
       "MINT01077  V Kidder Assay-Master in Ireland         Mint   \n",
       "MINT01076    John Scrope Treasury Secretary         Mint   \n",
       "MINT01078    John Scrope Treasury Secretary         Mint   \n",
       "NATP00027                      Isaac Newton      Science   \n",
       "\n",
       "                                                       title  \\\n",
       "NATP00226  Letter from Newton to a friend, together with ...   \n",
       "NATP00227  Letter from Newton to Francis Aston, dated 18 ...   \n",
       "NATP00224  Letter from Newton to John Collins, dated 19 J...   \n",
       "NATP00225  Letter from Newton to John Collins, dated 6 Fe...   \n",
       "NATP00228  Letter from Newton to John Collins, dated 18 F...   \n",
       "...                                                      ...   \n",
       "NATP00279  Letter from Newton to Edmund Halley, dated 3 D...   \n",
       "MINT01077  Copy of report on the assay of several new Por...   \n",
       "MINT01076  Copy of referral of report on the assay of sev...   \n",
       "MINT01078  Copy of letter recommending John Rollos for th...   \n",
       "NATP00027  An Instrument for observing the Moon's Distanc...   \n",
       "\n",
       "                     manuscript             original_date original_place  \\\n",
       "NATP00226   MS Add. 9597/2/18/3        23 February 1668/9        England   \n",
       "NATP00227   MS Add. 9597/2/18/4               18 May 1669        England   \n",
       "NATP00224   MS Add. 9597/2/18/1        19 January 1669/70        England   \n",
       "NATP00225   MS Add. 9597/2/18/2        6 February 1669/70        England   \n",
       "NATP00228   MS Add. 9597/2/18/5       18 February 1669/70        England   \n",
       "...                         ...                       ...            ...   \n",
       "NATP00279  MS Add. 9597/2/18/68           3 December 1724        England   \n",
       "MINT01077           T 27/24.110                6 Apr 1725        England   \n",
       "MINT01076           T 27/24.110               23 Sep 1725        England   \n",
       "MINT01078           T 27/24.175               16 Aug 1726        England   \n",
       "NATP00027                  None  Published Oct.-Nov. 1742        England   \n",
       "\n",
       "                   languages  \\\n",
       "NATP00226   [English, Latin]   \n",
       "NATP00227   [English, Latin]   \n",
       "NATP00224          [English]   \n",
       "NATP00225  [English, French]   \n",
       "NATP00228          [English]   \n",
       "...                      ...   \n",
       "NATP00279   [English, Latin]   \n",
       "MINT01077          [English]   \n",
       "MINT01076          [English]   \n",
       "MINT01078          [English]   \n",
       "NATP00027          [English]   \n",
       "\n",
       "                                              letter_content  \n",
       "NATP00226  3 Trinity College Cambridge Feb: 23d 16689 Sir...  \n",
       "NATP00227  4 Trinity College Cambridge May 18 1669 Franci...  \n",
       "NATP00224  1 Trinity College Cambridge. Ian 1669 Sir I re...  \n",
       "NATP00225  2 Trinity College Feb 6 1669.Cambridge. Sir Mr...  \n",
       "NATP00228  5. Feb 18th 166970. Sir Two days since I recei...  \n",
       "...                                                      ...  \n",
       "NATP00279  68 Dr Halley I received from you formerly a Ta...  \n",
       "MINT01077  110 May it Please your Lordships In obedience ...  \n",
       "MINT01076  110 Officers of the Mint Gentlemen Mr: Kidder ...  \n",
       "MINT01078  175. Warden, Master & Worker and Comptroller o...  \n",
       "NATP00027  [155] I. A true Copy of a Paper found, in the ...  \n",
       "\n",
       "[431 rows x 8 columns]"
      ]
     },
     "execution_count": 24,
     "metadata": {},
     "output_type": "execute_result"
    }
   ],
   "source": [
    "letters"
   ]
  },
  {
   "cell_type": "markdown",
   "id": "focal-definition",
   "metadata": {},
   "source": [
    "Saving DataFrame in pickle format"
   ]
  },
  {
   "cell_type": "code",
   "execution_count": 25,
   "id": "executed-thursday",
   "metadata": {},
   "outputs": [],
   "source": [
    "letters.to_pickle(\"letters.pickle\")"
   ]
  },
  {
   "cell_type": "code",
   "execution_count": 26,
   "id": "floppy-contamination",
   "metadata": {},
   "outputs": [],
   "source": [
    "letters.title.to_csv(\"title.csv\")"
   ]
  },
  {
   "cell_type": "code",
   "execution_count": null,
   "id": "victorian-stationery",
   "metadata": {},
   "outputs": [],
   "source": []
  }
 ],
 "metadata": {
  "kernelspec": {
   "display_name": "Python 3",
   "language": "python",
   "name": "python3"
  },
  "language_info": {
   "codemirror_mode": {
    "name": "ipython",
    "version": 3
   },
   "file_extension": ".py",
   "mimetype": "text/x-python",
   "name": "python",
   "nbconvert_exporter": "python",
   "pygments_lexer": "ipython3",
   "version": "3.8.8"
  }
 },
 "nbformat": 4,
 "nbformat_minor": 5
}
