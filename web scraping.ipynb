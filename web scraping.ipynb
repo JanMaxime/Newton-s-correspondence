{
 "cells": [
  {
   "cell_type": "markdown",
   "id": "logical-resident",
   "metadata": {},
   "source": [
    "## Imports"
   ]
  },
  {
   "cell_type": "code",
   "execution_count": 2,
   "id": "precise-large",
   "metadata": {},
   "outputs": [],
   "source": [
    "import requests\n",
    "import re\n",
    "from bs4 import BeautifulSoup\n",
    "import pandas as pd"
   ]
  },
  {
   "cell_type": "markdown",
   "id": "typical-video",
   "metadata": {},
   "source": [
    "## Scraping all article IDs"
   ]
  },
  {
   "cell_type": "markdown",
   "id": "radical-vessel",
   "metadata": {},
   "source": [
    "On the Newton's Project website, there are always 25 articles per page and there are 25 pages of correspondance."
   ]
  },
  {
   "cell_type": "code",
   "execution_count": 3,
   "id": "analyzed-favorite",
   "metadata": {},
   "outputs": [],
   "source": [
    "number_of_pages = 18\n",
    "articles_per_page = 25"
   ]
  },
  {
   "cell_type": "markdown",
   "id": "isolated-milan",
   "metadata": {},
   "source": [
    "For each page, we get its HTML content and parse it with BeautifulSoup. Then we simply temporarly store it in an array"
   ]
  },
  {
   "cell_type": "code",
   "execution_count": 4,
   "id": "center-elimination",
   "metadata": {},
   "outputs": [],
   "source": [
    "html_soups = []\n",
    "for page in range(number_of_pages):\n",
    "    start_article_number = page * articles_per_page + 1\n",
    "    url = f\"http://www.newtonproject.ox.ac.uk/texts/correspondence/all?n=25&sr={start_article_number}&cat=Correspondence&tr=1&sort=shelfmark&order=asc\"\n",
    "    r = requests.get(url)\n",
    "    soup = BeautifulSoup(r.text, 'html.parser')\n",
    "    html_soups.append(soup)"
   ]
  },
  {
   "cell_type": "markdown",
   "id": "serial-church",
   "metadata": {},
   "source": [
    "Using BeautifulSoup, we extract the article IDs from each HTML pages. These IDs are all in `p` tags with the `metadataContent` class. To retrieve the IDs only we use a Regular Expression that looks for 4 upper characters followed by 5 numbers."
   ]
  },
  {
   "cell_type": "code",
   "execution_count": 5,
   "id": "enhanced-darwin",
   "metadata": {},
   "outputs": [],
   "source": [
    "article_ids = []\n",
    "for soup in html_soups:\n",
    "    metadata = soup.find_all(\"p\", class_=\"metadataContent\")\n",
    "    for metadatum in metadata:\n",
    "        ids = re.findall(\"[A-Z]{4}[0-9]{5}\", metadatum.text)\n",
    "        if len(ids) > 0:\n",
    "            article_ids.append(ids[0])\n",
    "assert(len(article_ids) == 431)"
   ]
  },
  {
   "cell_type": "markdown",
   "id": "amended-rotation",
   "metadata": {},
   "source": [
    "## Retrieve XML files"
   ]
  },
  {
   "cell_type": "markdown",
   "id": "according-george",
   "metadata": {},
   "source": [
    "Once we have a list of IDs, we can simply query the corresponding XML file and parse it with BS"
   ]
  },
  {
   "cell_type": "code",
   "execution_count": 6,
   "id": "hydraulic-remains",
   "metadata": {},
   "outputs": [],
   "source": [
    "xml_soups = []\n",
    "for article_id in article_ids:\n",
    "    url = f\"http://www.newtonproject.ox.ac.uk/view/texts/xml/{article_id}\"\n",
    "    r = requests.get(url)\n",
    "    soup = BeautifulSoup(r.text, \"xml\")\n",
    "    xml_soups.append(soup)\n",
    "\n",
    "assert(len(xml_soups) == 431)"
   ]
  },
  {
   "cell_type": "markdown",
   "id": "worst-soccer",
   "metadata": {},
   "source": [
    "We can now simply iterate through each XML and get the useful information. This information is stored in a list of lists that will be used to build a DataFrame"
   ]
  },
  {
   "cell_type": "code",
   "execution_count": 13,
   "id": "functional-given",
   "metadata": {},
   "outputs": [],
   "source": [
    "entries = []\n",
    "for xml in xml_soups:\n",
    "    #Removes abbreviations. e.g. there are 2 versions for the word \"Sir\", namely the abbreviation \"Sr\" and the complete word \"Sir\".\n",
    "    for abbr in xml(\"abbr\"):\n",
    "        abbr.decompose()\n",
    "        \n",
    "    author = xml.find(\"author\").text.replace(\"\\n\", \" \").strip(\" \")\n",
    "    \n",
    "    #This may not be entirely correct to query div\n",
    "    letter_content = xml.find(\"div\").text\n",
    "    if letter_content is not None:\n",
    "        letter_content = \" \".join(letter_content.split())\n",
    "    else:\n",
    "        letter_content = \"\"\n",
    "   \n",
    "    original_date = xml.find(\"origDate\").text\n",
    "    original_place = xml.find(\"origPlace\")\n",
    "    if original_place is not None:\n",
    "        original_place = original_place.text\n",
    "    else:\n",
    "        original_place = \"Unknown\"\n",
    "        \n",
    "    languages = [lang.text for lang in xml.find_all(\"language\")]\n",
    "    \n",
    "    entries.append([author, original_date, original_place, languages, letter_content])"
   ]
  },
  {
   "cell_type": "markdown",
   "id": "forward-chrome",
   "metadata": {},
   "source": [
    "Now we can actively build the DataFrame using the article IDs as indices"
   ]
  },
  {
   "cell_type": "code",
   "execution_count": 14,
   "id": "happy-spank",
   "metadata": {},
   "outputs": [],
   "source": [
    "letters = pd.DataFrame(entries, columns=[\"author\", \"original_date\", \"original_place\", \"languages\", \"letter_content\"], index = article_ids)"
   ]
  },
  {
   "cell_type": "markdown",
   "id": "disturbed-battle",
   "metadata": {},
   "source": [
    "Saving DataFrame in pickle format"
   ]
  },
  {
   "cell_type": "code",
   "execution_count": 15,
   "id": "promotional-provincial",
   "metadata": {},
   "outputs": [],
   "source": [
    "letters.to_pickle(\"letters.pickle\")"
   ]
  },
  {
   "cell_type": "code",
   "execution_count": null,
   "id": "failing-ideal",
   "metadata": {},
   "outputs": [],
   "source": []
  }
 ],
 "metadata": {
  "kernelspec": {
   "display_name": "Python 3",
   "language": "python",
   "name": "python3"
  },
  "language_info": {
   "codemirror_mode": {
    "name": "ipython",
    "version": 3
   },
   "file_extension": ".py",
   "mimetype": "text/x-python",
   "name": "python",
   "nbconvert_exporter": "python",
   "pygments_lexer": "ipython3",
   "version": "3.8.8"
  }
 },
 "nbformat": 4,
 "nbformat_minor": 5
}
