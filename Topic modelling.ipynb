{
 "cells": [
  {
   "cell_type": "markdown",
   "metadata": {},
   "source": [
    "# Topic Modelling\n",
    "## Imports"
   ]
  },
  {
   "cell_type": "code",
   "execution_count": 1,
   "metadata": {},
   "outputs": [
    {
     "name": "stderr",
     "output_type": "stream",
     "text": [
      "[nltk_data] Downloading package wordnet to\n",
      "[nltk_data]     C:\\Users\\Maxime\\AppData\\Roaming\\nltk_data...\n",
      "[nltk_data]   Package wordnet is already up-to-date!\n",
      "[nltk_data] Downloading package stopwords to\n",
      "[nltk_data]     C:\\Users\\Maxime\\AppData\\Roaming\\nltk_data...\n",
      "[nltk_data]   Package stopwords is already up-to-date!\n"
     ]
    }
   ],
   "source": [
    "import gensim\n",
    "import nltk\n",
    "import pandas as pd\n",
    "import re\n",
    "from datetime import datetime\n",
    "from nltk.stem import WordNetLemmatizer\n",
    "from nltk.corpus import stopwords\n",
    "nltk.download('wordnet')\n",
    "nltk.download('stopwords')\n",
    "from gensim.models import TfidfModel, LdaModel\n",
    "from gensim.corpora import Dictionary\n",
    "import matplotlib.pyplot as plt\n",
    "from tqdm import tqdm\n",
    "import seaborn as sns"
   ]
  },
  {
   "cell_type": "markdown",
   "metadata": {},
   "source": [
    "## Data loading"
   ]
  },
  {
   "cell_type": "code",
   "execution_count": 2,
   "metadata": {},
   "outputs": [],
   "source": [
    "def string_to_date(str_date):\n",
    "    if len(str(str_date)) == \"\":\n",
    "        return None\n",
    "    for fmt in ('%d %B %Y', '%d %b %Y', '%B %Y', \"%b %Y\", \"%Y\"):\n",
    "        try:\n",
    "            return datetime.strptime(str(str_date), fmt)\n",
    "        except ValueError:\n",
    "            pass\n",
    "    raise ValueError(f'no valid date format found for {str_date}')"
   ]
  },
  {
   "cell_type": "code",
   "execution_count": 3,
   "metadata": {},
   "outputs": [
    {
     "data": {
      "text/html": [
       "<div>\n",
       "<style scoped>\n",
       "    .dataframe tbody tr th:only-of-type {\n",
       "        vertical-align: middle;\n",
       "    }\n",
       "\n",
       "    .dataframe tbody tr th {\n",
       "        vertical-align: top;\n",
       "    }\n",
       "\n",
       "    .dataframe thead th {\n",
       "        text-align: right;\n",
       "    }\n",
       "</style>\n",
       "<table border=\"1\" class=\"dataframe\">\n",
       "  <thead>\n",
       "    <tr style=\"text-align: right;\">\n",
       "      <th></th>\n",
       "      <th>author</th>\n",
       "      <th>category</th>\n",
       "      <th>title</th>\n",
       "      <th>manuscript</th>\n",
       "      <th>original_date</th>\n",
       "      <th>original_place</th>\n",
       "      <th>languages</th>\n",
       "      <th>letter_content</th>\n",
       "      <th>index</th>\n",
       "      <th>original_date_corrected</th>\n",
       "      <th>receiver</th>\n",
       "      <th>royal</th>\n",
       "    </tr>\n",
       "  </thead>\n",
       "  <tbody>\n",
       "    <tr>\n",
       "      <th>0</th>\n",
       "      <td>Isaac Newton</td>\n",
       "      <td>Mathematics</td>\n",
       "      <td>Letter from Newton to a friend, together with ...</td>\n",
       "      <td>MS Add. 9597/2/18/3</td>\n",
       "      <td>23 February 1668/9</td>\n",
       "      <td>England</td>\n",
       "      <td>[English, Latin]</td>\n",
       "      <td>3 Trinity College Cambridge Feb: 23d 16689 Sir...</td>\n",
       "      <td>NATP00226</td>\n",
       "      <td>1668-02-23 00:00:00</td>\n",
       "      <td>unknown</td>\n",
       "      <td>False</td>\n",
       "    </tr>\n",
       "    <tr>\n",
       "      <th>1</th>\n",
       "      <td>Isaac Newton</td>\n",
       "      <td>Mathematics</td>\n",
       "      <td>Letter from Newton to Francis Aston, dated 18 ...</td>\n",
       "      <td>MS Add. 9597/2/18/4</td>\n",
       "      <td>18 May 1669</td>\n",
       "      <td>England</td>\n",
       "      <td>[English, Latin]</td>\n",
       "      <td>4 Trinity College Cambridge May 18 1669 Franci...</td>\n",
       "      <td>NATP00227</td>\n",
       "      <td>1669-05-18 00:00:00</td>\n",
       "      <td>Francis Aston</td>\n",
       "      <td>False</td>\n",
       "    </tr>\n",
       "  </tbody>\n",
       "</table>\n",
       "</div>"
      ],
      "text/plain": [
       "         author     category  \\\n",
       "0  Isaac Newton  Mathematics   \n",
       "1  Isaac Newton  Mathematics   \n",
       "\n",
       "                                               title           manuscript  \\\n",
       "0  Letter from Newton to a friend, together with ...  MS Add. 9597/2/18/3   \n",
       "1  Letter from Newton to Francis Aston, dated 18 ...  MS Add. 9597/2/18/4   \n",
       "\n",
       "        original_date original_place         languages  \\\n",
       "0  23 February 1668/9        England  [English, Latin]   \n",
       "1         18 May 1669        England  [English, Latin]   \n",
       "\n",
       "                                      letter_content      index  \\\n",
       "0  3 Trinity College Cambridge Feb: 23d 16689 Sir...  NATP00226   \n",
       "1  4 Trinity College Cambridge May 18 1669 Franci...  NATP00227   \n",
       "\n",
       "  original_date_corrected       receiver  royal  \n",
       "0     1668-02-23 00:00:00        unknown  False  \n",
       "1     1669-05-18 00:00:00  Francis Aston  False  "
      ]
     },
     "execution_count": 3,
     "metadata": {},
     "output_type": "execute_result"
    }
   ],
   "source": [
    "letters = pd.read_pickle(\"letters.pickle\")\n",
    "original_dates_corrected = pd.read_csv(\"original_dates.csv\", sep=\";\")\n",
    "\n",
    "letters = pd.merge(letters, original_dates_corrected, left_index=True, right_on=\"index\").dropna()\n",
    "letters.original_date_corrected = letters.original_date_corrected.apply(string_to_date)\n",
    "letters = letters.query(\"category != 'Mint'\")\n",
    "letters = letters[letters[\"languages\"].apply(lambda ls : ls != [\"Latin\"])]\n",
    "\n",
    "destinataire = pd.read_csv(\"destinataire.csv\", sep=\";\", names=[\"index\", \"receiver\", \"royal\"])\n",
    "destinataire[\"royal\"] = destinataire.royal.apply(lambda x : type(x) is str)\n",
    "\n",
    "letters = pd.merge(letters, destinataire, left_on=\"index\", right_on = \"index\")\n",
    "letters.head(2)"
   ]
  },
  {
   "cell_type": "markdown",
   "metadata": {},
   "source": [
    "## Data preprocessing"
   ]
  },
  {
   "cell_type": "code",
   "execution_count": 4,
   "metadata": {},
   "outputs": [
    {
     "data": {
      "text/plain": [
       "0    3 trinity college cambridge feb: 23d 16689 sir...\n",
       "1    4 trinity college cambridge may 18 1669 franci...\n",
       "Name: letter_content, dtype: object"
      ]
     },
     "execution_count": 4,
     "metadata": {},
     "output_type": "execute_result"
    }
   ],
   "source": [
    "letters.letter_content = letters.letter_content.apply(lambda txt : txt.lower())\n",
    "letters.letter_content[:2]"
   ]
  },
  {
   "cell_type": "code",
   "execution_count": 5,
   "metadata": {},
   "outputs": [
    {
     "data": {
      "text/plain": [
       "0    3 trinity college cambridge feb: 23d 16689 sir...\n",
       "1    4 trinity college cambridge may 18 1669 franci...\n",
       "Name: letter_content, dtype: object"
      ]
     },
     "execution_count": 5,
     "metadata": {},
     "output_type": "execute_result"
    }
   ],
   "source": [
    "letters.letter_content = letters.letter_content.apply(lambda txt : txt.lower())\n",
    "letters.letter_content[:2]"
   ]
  },
  {
   "cell_type": "code",
   "execution_count": 6,
   "metadata": {},
   "outputs": [
    {
     "data": {
      "text/plain": [
       "0     trinity college cambridge feb d  sir i promis...\n",
       "1     trinity college cambridge may   francis since...\n",
       "Name: letter_content, dtype: object"
      ]
     },
     "execution_count": 6,
     "metadata": {},
     "output_type": "execute_result"
    }
   ],
   "source": [
    "letters.letter_content = letters.letter_content.apply(lambda txt : re.sub(\"[^a-zA-Z\\s]+\", \"\", txt))\n",
    "letters.letter_content[:2]"
   ]
  },
  {
   "cell_type": "code",
   "execution_count": 7,
   "metadata": {},
   "outputs": [
    {
     "data": {
      "text/plain": [
       "0    [trinity, college, cambridge, feb, d, sir, i, ...\n",
       "1    [trinity, college, cambridge, may, francis, si...\n",
       "Name: letter_content, dtype: object"
      ]
     },
     "execution_count": 7,
     "metadata": {},
     "output_type": "execute_result"
    }
   ],
   "source": [
    "letters.letter_content = letters.letter_content.apply(lambda txt : txt.split())\n",
    "letters.letter_content[:2]"
   ]
  },
  {
   "cell_type": "code",
   "execution_count": null,
   "metadata": {},
   "outputs": [],
   "source": []
  },
  {
   "cell_type": "code",
   "execution_count": 8,
   "metadata": {},
   "outputs": [],
   "source": [
    "def remove_non_english(tokens):\n",
    "    english_tokens = []\n",
    "    for i in range(0, len(tokens), 10):\n",
    "        if detect(\" \".join(tokens[i:i+10])) != \"en\":\n",
    "            english_tokens.append(tokens[i:i+10])\n",
    "    return english_tokens"
   ]
  },
  {
   "cell_type": "code",
   "execution_count": 9,
   "metadata": {},
   "outputs": [
    {
     "data": {
      "text/plain": [
       "0    [trinity, college, cambridge, feb, sir, promis...\n",
       "1    [trinity, college, cambridge, may, francis, si...\n",
       "Name: letter_content, dtype: object"
      ]
     },
     "execution_count": 9,
     "metadata": {},
     "output_type": "execute_result"
    }
   ],
   "source": [
    "letters.letter_content = letters.letter_content.apply(lambda words : [word for word in words if not len(word) < 3])\n",
    "letters.letter_content[:2]"
   ]
  },
  {
   "cell_type": "code",
   "execution_count": 10,
   "metadata": {},
   "outputs": [],
   "source": [
    "lemmatizer = WordNetLemmatizer()"
   ]
  },
  {
   "cell_type": "code",
   "execution_count": 11,
   "metadata": {},
   "outputs": [],
   "source": [
    "letters.letter_content = letters.letter_content.apply(lambda words : [lemmatizer.lemmatize(word) for word in words])"
   ]
  },
  {
   "cell_type": "code",
   "execution_count": 12,
   "metadata": {},
   "outputs": [],
   "source": [
    "latin_stopwords = [\"bee\", \"erit\", \"potest\", \"a\",\"ab\",\"ac\",\"ad\",\"adhuc\",\"aliqui\",\"aliquis\",\"an\",\"ante\",\"apud\",\"at\",\"atque\",\"aut\",\"autem\",\"contra\",\"cui\",\"cuius\",\"cujus\",\"cum\",\"cur\",\"de\",\"deinde\",\"dum\",\"e\",\"ea\",\"ego\",\"ei\",\"eius\",\"ejus\",\"enim\",\"eo\",\"eorum\",\"erant\",\"erat\",\"ergo\",\"es\",\"esse\",\"esset\",\"est\",\"et\",\"etiam\",\"etsi\",\"eum\",\"ex\",\"fio\",\"fuit\",\"haec\",\"haud\",\"hic\",\"his\",\"hoc\",\"iam\",\"id\",\"idem\",\"igitur\",\"illa\",\"ille\",\"in\",\"infra\",\"inter\",\"interim\",\"ipse\",\"is\",\"ita\",\"jam\",\"magis\",\"me\",\"mihi\",\"modo\",\"mox\",\"nam\",\"ne\",\"nec\",\"necque\",\"neque\",\"nisi\",\"nobis\",\"non\",\"nos\",\"o\",\"ob\",\"per\",\"possum\",\"post\",\"pro\",\"qua\",\"quae\",\"quam\",\"quare\",\"quem\",\"qui\",\"quia\",\"quibus\",\"quicumque\",\"quid\",\"quidem\",\"quilibet\",\"quis\",\"quisnam\",\"quisquam\",\"quisque\",\"quisquis\",\"quo\",\"quod\",\"quoniam\",\"quos\",\"re\",\"rebus\",\"rem\",\"res\",\"se\",\"secundum\",\"sed\",\"si\",\"sibi\",\"sic\",\"sicut\",\"sine\",\"sit\",\"siue\",\"sive\",\"sua\",\"sub\",\"sui\",\"sum\",\"sunt\",\"super\",\"suus\",\"tam\",\"tamen\",\"tandem\",\"te\",\"tibi\",\"trans\",\"tu\",\"tum\",\"ubi\",\"uel\",\"uero\",\"uos\",\"ut\",\"vel\",\"vero\",\"vos\"]"
   ]
  },
  {
   "cell_type": "code",
   "execution_count": 13,
   "metadata": {},
   "outputs": [
    {
     "data": {
      "text/plain": [
       "0    [trinity, college, cambridge, feb, sir, promis...\n",
       "1    [trinity, college, cambridge, may, francis, si...\n",
       "Name: letter_content, dtype: object"
      ]
     },
     "execution_count": 13,
     "metadata": {},
     "output_type": "execute_result"
    }
   ],
   "source": [
    "letters.letter_content = letters.letter_content.apply(lambda words : [word for word in words if not word in stopwords.words(\"english\") and not word in latin_stopwords])\n",
    "letters.letter_content[:2]"
   ]
  },
  {
   "cell_type": "code",
   "execution_count": null,
   "metadata": {},
   "outputs": [],
   "source": []
  },
  {
   "cell_type": "code",
   "execution_count": 14,
   "metadata": {},
   "outputs": [],
   "source": [
    "word_document_frequency = dict()\n",
    "for index, row in letters.iterrows():\n",
    "    document_words = set()\n",
    "    for word in row[\"letter_content\"]:\n",
    "        if word in document_words:\n",
    "            continue\n",
    "        document_words.add(word)\n",
    "        if not word in word_document_frequency.keys():\n",
    "            word_document_frequency[word] = 1\n",
    "        else:\n",
    "            word_document_frequency[word] += 1"
   ]
  },
  {
   "cell_type": "code",
   "execution_count": 15,
   "metadata": {},
   "outputs": [],
   "source": [
    "words_to_remove = set()\n",
    "for word, frequency in word_document_frequency.items():\n",
    "    if frequency < 10 or frequency > 0.9 * len(letters):\n",
    "        words_to_remove.add(word)"
   ]
  },
  {
   "cell_type": "code",
   "execution_count": 16,
   "metadata": {},
   "outputs": [],
   "source": [
    "letters.letter_content = letters.letter_content.apply(lambda words : [word for word in words if not word in words_to_remove])"
   ]
  },
  {
   "cell_type": "markdown",
   "metadata": {},
   "source": [
    "## TFIDF representation"
   ]
  },
  {
   "cell_type": "code",
   "execution_count": 17,
   "metadata": {},
   "outputs": [],
   "source": [
    "dct = Dictionary(letters.letter_content)  # fit dictionary\n",
    "corpus = [dct.doc2bow(line) for line in letters.letter_content]  # convert corpus to BoW format\n",
    "\n",
    "model = TfidfModel(corpus)  # fit model\n",
    "vector = model[corpus]  # apply model to the first corpus document"
   ]
  },
  {
   "cell_type": "markdown",
   "metadata": {},
   "source": [
    "## Train LDA Model"
   ]
  },
  {
   "cell_type": "code",
   "execution_count": 24,
   "metadata": {},
   "outputs": [
    {
     "name": "stderr",
     "output_type": "stream",
     "text": [
      "100%|██████████████████████████████████████████████████████████████████████████████████| 15/15 [01:04<00:00,  4.31s/it]\n"
     ]
    }
   ],
   "source": [
    "avg_scores = []\n",
    "ranges = range(5,20,1)\n",
    "for n in tqdm(ranges):\n",
    "    lda = LdaModel(vector, id2word=dct, num_topics=n, alpha='auto', eta='auto', passes=10, iterations=100, eval_every=None, random_state=345)\n",
    "    avg_score = 0\n",
    "    for top_topic in lda.top_topics(vector, texts=letters.letter_content, coherence='c_v'):\n",
    "        avg_score += top_topic[1]\n",
    "    avg_score/=n\n",
    "    avg_scores.append(avg_score)"
   ]
  },
  {
   "cell_type": "code",
   "execution_count": 30,
   "metadata": {},
   "outputs": [
    {
     "data": {
      "image/png": "[encoded data removed]",
      "text/plain": [
       "<Figure size 720x360 with 1 Axes>"
      ]
     },
     "metadata": {
      "needs_background": "light"
     },
     "output_type": "display_data"
    }
   ],
   "source": [
    "fig, ax = plt.subplots(figsize=(10,5))\n",
    "plt.plot(ranges, avg_scores)\n",
    "plt.title(\"Average coherence score\", fontsize=20)\n",
    "plt.xlabel(\"Number of topics\", fontsize=15)\n",
    "plt.ylabel(\"average c_v coherence score\", fontsize=15)\n",
    "plt.show()"
   ]
  },
  {
   "cell_type": "code",
   "execution_count": 18,
   "metadata": {},
   "outputs": [
    {
     "data": {
      "text/plain": [
       "[(0,\n",
       "  '0.003*\"oblige\" + 0.003*\"pray\" + 0.003*\"among\" + 0.003*\"putting\" + 0.003*\"occasion\"'),\n",
       " (1,\n",
       "  '0.006*\"oldenburg\" + 0.005*\"henry\" + 0.004*\"society\" + 0.003*\"cambridge\" + 0.003*\"london\"'),\n",
       " (2,\n",
       "  '0.013*\"data\" + 0.012*\"series\" + 0.011*\"leibnitz\" + 0.009*\"june\" + 0.008*\"par\"'),\n",
       " (3,\n",
       "  '0.009*\"colour\" + 0.006*\"prism\" + 0.006*\"ray\" + 0.005*\"light\" + 0.005*\"experiment\"'),\n",
       " (4,\n",
       "  '0.002*\"series\" + 0.002*\"pag\" + 0.002*\"leibnitz\" + 0.002*\"carrier\" + 0.002*\"long\"'),\n",
       " (5,\n",
       "  '0.009*\"quations\" + 0.008*\"gregory\" + 0.008*\"root\" + 0.008*\"series\" + 0.007*\"curve\"'),\n",
       " (6,\n",
       "  '0.016*\"latitude\" + 0.013*\"min\" + 0.010*\"minute\" + 0.007*\"fit\" + 0.007*\"tangent\"')]"
      ]
     },
     "execution_count": 18,
     "metadata": {},
     "output_type": "execute_result"
    }
   ],
   "source": [
    "lda = LdaModel(vector, id2word=dct, num_topics=7, alpha='auto', eta='auto', passes=10, iterations=100, eval_every=None, random_state=345)\n",
    "lda.show_topics(num_words=5)"
   ]
  },
  {
   "cell_type": "markdown",
   "metadata": {},
   "source": [
    "## Correspondants analysis"
   ]
  },
  {
   "cell_type": "code",
   "execution_count": 19,
   "metadata": {},
   "outputs": [],
   "source": [
    "names = [\"Henry Oldenburg\", \"John Collins\", \"Edmund Halley\", \"John Wallis\"]"
   ]
  },
  {
   "cell_type": "code",
   "execution_count": 20,
   "metadata": {},
   "outputs": [],
   "source": [
    "data = dict()\n",
    "for name in names:\n",
    "    histogram = [0]*7\n",
    "    correspondence_indices = list(letters.query(\"(author == 'Isaac Newton' and receiver == @name) or (author == @name and receiver == 'Isaac Newton')\").index)\n",
    "    for index in correspondence_indices:\n",
    "        for topic in lda.get_document_topics(vector[index]):\n",
    "            histogram[topic[0]]+= topic[1]\n",
    "    data[name] = [v/len(correspondence_indices) for v in histogram]\n",
    "data = pd.DataFrame.from_dict(data, orient='index', columns=[\"Topic 1\", \"Topic 2\", \"Topic 3\", \"Topic 4\", \"Topic 5\", \"Topic 6\", \"Topic 7\"]).reset_index().rename(columns={\"index\": \"Name\",\n",
    "\"Topic 1\" : \"Courtesies\", \"Topic 2\" : \"Royal Society\",\"Topic 3\" : \"Math data\",\"Topic 4\" : \"Optic\",\"Topic 5\" : \"Math data bis\",\"Topic 6\" : \"Mathematics\", \"Topic 7\" : \"Geography\"})"
   ]
  },
  {
   "cell_type": "code",
   "execution_count": 22,
   "metadata": {},
   "outputs": [],
   "source": [
    "df = pd.melt(data, id_vars=\"Name\", var_name=\"topic\", value_name=\"frequency\")"
   ]
  },
  {
   "cell_type": "code",
   "execution_count": 23,
   "metadata": {},
   "outputs": [
    {
     "data": {
      "image/png": "[encoded data removed]",
      "text/plain": [
       "<Figure size 1440x432 with 1 Axes>"
      ]
     },
     "metadata": {
      "needs_background": "light"
     },
     "output_type": "display_data"
    }
   ],
   "source": [
    "fig, axes = plt.subplots(figsize=(20,6))\n",
    "sns.barplot(data=df, x = \"Name\", y = \"frequency\", hue=\"topic\")\n",
    "plt.title(\"Topic distribution per correspondent\", fontsize=20)\n",
    "plt.xlabel(\"Correspondent\", fontsize=15)\n",
    "plt.ylabel(\"Topic frequency\", fontsize=15)\n",
    "plt.xticks(size=15)\n",
    "plt.show()"
   ]
  }
 ],
 "metadata": {
  "kernelspec": {
   "display_name": "Python 3",
   "language": "python",
   "name": "python3"
  },
  "language_info": {
   "codemirror_mode": {
    "name": "ipython",
    "version": 3
   },
   "file_extension": ".py",
   "mimetype": "text/x-python",
   "name": "python",
   "nbconvert_exporter": "python",
   "pygments_lexer": "ipython3",
   "version": "3.8.8"
  }
 },
 "nbformat": 4,
 "nbformat_minor": 4
}
